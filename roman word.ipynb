{
 "cells": [
  {
   "cell_type": "code",
   "execution_count": 1,
   "id": "104437b8",
   "metadata": {},
   "outputs": [],
   "source": [
    "import csv\n",
    "import sys\n",
    "from nltk.tokenize import word_tokenize\n",
    "import codecs\n",
    "import pandas\n",
    "import numpy\n",
    "import math"
   ]
  },
  {
   "cell_type": "code",
   "execution_count": 2,
   "id": "7fed8c12",
   "metadata": {
    "scrolled": true
   },
   "outputs": [],
   "source": [
    "df = pandas.read_csv(\"unique_word_translated/unique_word.csv\", names = ['second', 'third'], encoding='utf-8-sig')"
   ]
  },
  {
   "cell_type": "code",
   "execution_count": 3,
   "id": "48d0d47a",
   "metadata": {},
   "outputs": [],
   "source": [
    "urdu_words = df.second.to_list()\n",
    "roman_words = df.third.to_list()"
   ]
  },
  {
   "cell_type": "code",
   "execution_count": 4,
   "id": "aee8b3b0",
   "metadata": {},
   "outputs": [],
   "source": [
    "# after sepparation\n",
    "with open('k_eman.csv', encoding = 'utf-8-sig') as file_csv:\n",
    "    lines_row =file_csv.read().splitlines()\n",
    "    ct_string = [word_tokenize(i) for i in lines_row]"
   ]
  },
  {
   "cell_type": "code",
   "execution_count": 5,
   "id": "a1afa437",
   "metadata": {},
   "outputs": [],
   "source": [
    "punctuation = ['“','“','‘‘',',','-','،','۔','”','!','؟',')','(','.','1','2','3','4','5','6','7','8','9','0','‘',',',\"''\",'``',' ',':',':’’','’’']\n",
    "extra_punct = ['’’','“','،',':','”','۔','\"',\"(\",\")\",\"؟\"]"
   ]
  },
  {
   "cell_type": "code",
   "execution_count": 6,
   "id": "c6e1e91f",
   "metadata": {},
   "outputs": [],
   "source": [
    "# after sepparation\n",
    "remove_punc=[]\n",
    "for a in ct_string:\n",
    "    remove_punc.append([item for item in a if item not in punctuation])"
   ]
  },
  {
   "cell_type": "code",
   "execution_count": 7,
   "id": "7f8cb883",
   "metadata": {},
   "outputs": [],
   "source": [
    "# after sepparation\n",
    "for itemlist in range(len(remove_punc)):\n",
    "    for item in range(len(remove_punc[itemlist])):\n",
    "        remove_punc[itemlist][item] = remove_punc[itemlist][item].replace(\"؟\",\"\")\n",
    "for itemlist in range(len(remove_punc)):\n",
    "    for item in range(len(remove_punc[itemlist])):\n",
    "        remove_punc[itemlist][item] = remove_punc[itemlist][item].replace(\")\",\"\")\n",
    "for itemlist in range(len(remove_punc)):\n",
    "    for item in range(len(remove_punc[itemlist])):\n",
    "        remove_punc[itemlist][item] = remove_punc[itemlist][item].replace(\"(\",\"\")\n",
    "for itemlist in range(len(remove_punc)):\n",
    "    for item in range(len(remove_punc[itemlist])):\n",
    "        remove_punc[itemlist][item] = remove_punc[itemlist][item].replace('\"','')\n",
    "for itemlist in range(len(remove_punc)):\n",
    "    for item in range(len(remove_punc[itemlist])):\n",
    "        remove_punc[itemlist][item] = remove_punc[itemlist][item].replace('۔','')\n",
    "for itemlist in range(len(remove_punc)):\n",
    "    for item in range(len(remove_punc[itemlist])):\n",
    "        remove_punc[itemlist][item] = remove_punc[itemlist][item].replace('”','')\n",
    "for itemlist in range(len(remove_punc)):\n",
    "    for item in range(len(remove_punc[itemlist])):\n",
    "        remove_punc[itemlist][item] = remove_punc[itemlist][item].replace(':','')\n",
    "for itemlist in range(len(remove_punc)):\n",
    "    for item in range(len(remove_punc[itemlist])):\n",
    "        remove_punc[itemlist][item] = remove_punc[itemlist][item].replace('،','')\n",
    "for itemlist in range(len(remove_punc)):\n",
    "    for item in range(len(remove_punc[itemlist])):\n",
    "        remove_punc[itemlist][item] = remove_punc[itemlist][item].replace('“','')\n",
    "for itemlist in range(len(remove_punc)):\n",
    "    for item in range(len(remove_punc[itemlist])):\n",
    "        remove_punc[itemlist][item] = remove_punc[itemlist][item].replace('’’','')\n",
    "for itemlist in range(len(remove_punc)):\n",
    "    for item in range(len(remove_punc[itemlist])):\n",
    "        remove_punc[itemlist][item] = remove_punc[itemlist][item].replace('’','')"
   ]
  },
  {
   "cell_type": "code",
   "execution_count": 8,
   "id": "03c688a6",
   "metadata": {},
   "outputs": [],
   "source": [
    "# remove_punc=[]\n",
    "# for a in ct_string:\n",
    "#     if a not in punctuation:\n",
    "#         remove_punc.append(a)"
   ]
  },
  {
   "cell_type": "code",
   "execution_count": 9,
   "id": "76a92d05",
   "metadata": {},
   "outputs": [
    {
     "name": "stdout",
     "output_type": "stream",
     "text": [
      "Exception\n",
      "Exception\n",
      "Exception\n",
      "Exception\n",
      "Exception\n",
      "Exception\n",
      "Exception\n",
      "Exception\n",
      "Exception\n",
      "Exception\n",
      "Exception\n",
      "Exception\n",
      "Exception\n",
      "Exception\n",
      "Exception\n",
      "Exception\n",
      "Exception\n",
      "Exception\n",
      "Exception\n"
     ]
    }
   ],
   "source": [
    "converted_lines = []\n",
    "roman_hadees = []\n",
    "for hadees in remove_punc:\n",
    "    roman_hadees = []\n",
    "    for word in hadees:\n",
    "        try:\n",
    "            index = urdu_words.index(word)\n",
    "            a = roman_words[index]\n",
    "            if isinstance(a,float):\n",
    "                roman_hadees.append(word)\n",
    "            else:\n",
    "                roman_hadees.append(a)\n",
    "        except:\n",
    "            print(\"Exception\")\n",
    "    str = ' '.join(roman_hadees)\n",
    "    converted_lines.append(str)"
   ]
  },
  {
   "cell_type": "code",
   "execution_count": 10,
   "id": "142d4ec2",
   "metadata": {},
   "outputs": [],
   "source": [
    "# print(converted_lines)"
   ]
  },
  {
   "cell_type": "code",
   "execution_count": 11,
   "id": "109d82da",
   "metadata": {},
   "outputs": [
    {
     "name": "stdout",
     "output_type": "stream",
     "text": [
      "Writing complete\n"
     ]
    }
   ],
   "source": [
    "myFile = open('roman_translation.csv', 'w')\n",
    "with myFile:\n",
    "    writer = csv.writer(myFile)\n",
    "    for value in converted_lines:\n",
    "        writer.writerow([value])\n",
    "myFile.close()\n",
    "print(\"Writing complete\")"
   ]
  },
  {
   "cell_type": "code",
   "execution_count": null,
   "id": "e054c36c",
   "metadata": {},
   "outputs": [],
   "source": []
  },
  {
   "cell_type": "code",
   "execution_count": 11,
   "outputs": [],
   "source": [],
   "metadata": {
    "collapsed": false
   }
  }
 ],
 "metadata": {
  "kernelspec": {
   "display_name": "Python 3 (ipykernel)",
   "language": "python",
   "name": "python3"
  },
  "language_info": {
   "codemirror_mode": {
    "name": "ipython",
    "version": 3
   },
   "file_extension": ".py",
   "mimetype": "text/x-python",
   "name": "python",
   "nbconvert_exporter": "python",
   "pygments_lexer": "ipython3",
   "version": "3.8.8"
  }
 },
 "nbformat": 4,
 "nbformat_minor": 5
}
