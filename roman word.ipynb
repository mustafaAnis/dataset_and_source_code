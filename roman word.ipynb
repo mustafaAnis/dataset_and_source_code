{
 "cells": [
  {
   "cell_type": "code",
   "execution_count": 1,
   "id": "104437b8",
   "metadata": {},
   "outputs": [],
   "source": [
    "import csv\n",
    "import sys\n",
    "from nltk.tokenize import word_tokenize\n",
    "import codecs\n",
    "import pandas\n",
    "import numpy\n",
    "import math"
   ]
  },
  {
   "cell_type": "code",
   "execution_count": 2,
   "id": "7fed8c12",
   "metadata": {
    "scrolled": true
   },
   "outputs": [],
   "source": [
    "df = pandas.read_csv(\"unique_word_translated/unique_word.csv\", names = ['second', 'third'], encoding='utf-8-sig')"
   ]
  },
  {
   "cell_type": "code",
   "execution_count": 3,
   "id": "48d0d47a",
   "metadata": {},
   "outputs": [],
   "source": [
    "urdu_words = df.second.to_list()\n",
    "roman_words = df.third.to_list()"
   ]
  },
  {
   "cell_type": "code",
   "execution_count": 4,
   "id": "aee8b3b0",
   "metadata": {},
   "outputs": [],
   "source": [
    "# after sepparation\n",
    "with open('k_eman.csv', encoding = 'utf-8-sig') as file_csv:\n",
    "    lines_row =file_csv.read().splitlines()\n",
    "    ct_string = [word_tokenize(i) for i in lines_row]"
   ]
  },
  {
   "cell_type": "code",
   "execution_count": 5,
   "id": "a1afa437",
   "metadata": {},
   "outputs": [],
   "source": [
    "punctuation = ['“','“','‘‘',',','-','،','۔','”','!','؟',')','(','.','1','2','3','4','5','6','7','8','9','0','‘',',',\"''\",'``',' ',':',':’’','’’']\n",
    "extra_punct = ['’’','“','،',':','”','۔','\"',\"(\",\")\",\"؟\"]"
   ]
  },
  {
   "cell_type": "code",
   "execution_count": 6,
   "id": "c6e1e91f",
   "metadata": {},
   "outputs": [],
   "source": [
    "# after sepparation\n",
    "remove_punc=[]\n",
    "for a in ct_string:\n",
    "    remove_punc.append([item for item in a if item not in punctuation])"
   ]
  },
  {
   "cell_type": "code",
   "execution_count": 7,
   "id": "7f8cb883",
   "metadata": {},
   "outputs": [],
   "source": [
    "# after sepparation\n",
    "for itemlist in range(len(remove_punc)):\n",
    "    for item in range(len(remove_punc[itemlist])):\n",
    "        remove_punc[itemlist][item] = remove_punc[itemlist][item].replace(\"؟\",\"\")\n",
    "for itemlist in range(len(remove_punc)):\n",
    "    for item in range(len(remove_punc[itemlist])):\n",
    "        remove_punc[itemlist][item] = remove_punc[itemlist][item].replace(\")\",\"\")\n",
    "for itemlist in range(len(remove_punc)):\n",
    "    for item in range(len(remove_punc[itemlist])):\n",
    "        remove_punc[itemlist][item] = remove_punc[itemlist][item].replace(\"(\",\"\")\n",
    "for itemlist in range(len(remove_punc)):\n",
    "    for item in range(len(remove_punc[itemlist])):\n",
    "        remove_punc[itemlist][item] = remove_punc[itemlist][item].replace('\"','')\n",
    "for itemlist in range(len(remove_punc)):\n",
    "    for item in range(len(remove_punc[itemlist])):\n",
    "        remove_punc[itemlist][item] = remove_punc[itemlist][item].replace('۔','')\n",
    "for itemlist in range(len(remove_punc)):\n",
    "    for item in range(len(remove_punc[itemlist])):\n",
    "        remove_punc[itemlist][item] = remove_punc[itemlist][item].replace('”','')\n",
    "for itemlist in range(len(remove_punc)):\n",
    "    for item in range(len(remove_punc[itemlist])):\n",
    "        remove_punc[itemlist][item] = remove_punc[itemlist][item].replace(':','')\n",
    "for itemlist in range(len(remove_punc)):\n",
    "    for item in range(len(remove_punc[itemlist])):\n",
    "        remove_punc[itemlist][item] = remove_punc[itemlist][item].replace('،','')\n",
    "for itemlist in range(len(remove_punc)):\n",
    "    for item in range(len(remove_punc[itemlist])):\n",
    "        remove_punc[itemlist][item] = remove_punc[itemlist][item].replace('“','')\n",
    "for itemlist in range(len(remove_punc)):\n",
    "    for item in range(len(remove_punc[itemlist])):\n",
    "        remove_punc[itemlist][item] = remove_punc[itemlist][item].replace('’’','')\n",
    "for itemlist in range(len(remove_punc)):\n",
    "    for item in range(len(remove_punc[itemlist])):\n",
    "        remove_punc[itemlist][item] = remove_punc[itemlist][item].replace('’','')"
   ]
  },
  {
   "cell_type": "code",
   "execution_count": 8,
   "id": "03c688a6",
   "metadata": {},
   "outputs": [],
   "source": [
    "# remove_punc=[]\n",
    "# for a in ct_string:\n",
    "#     if a not in punctuation:\n",
    "#         remove_punc.append(a)"
   ]
  },
  {
   "cell_type": "code",
   "execution_count": 9,
   "id": "76a92d05",
   "metadata": {},
   "outputs": [
    {
     "name": "stdout",
     "output_type": "stream",
     "text": [
      "Exception\n",
      "Exception\n",
      "Exception\n",
      "Exception\n",
      "Exception\n",
      "Exception\n",
      "Exception\n",
      "Exception\n",
      "Exception\n",
      "Exception\n",
      "Exception\n",
      "Exception\n",
      "Exception\n",
      "Exception\n",
      "Exception\n",
      "Exception\n",
      "Exception\n",
      "Exception\n",
      "Exception\n"
     ]
    }
   ],
   "source": [
    "converted_lines = []\n",
    "roman_hadees = []\n",
    "for hadees in remove_punc:\n",
    "    roman_hadees = []\n",
    "    for word in hadees:\n",
    "        try:\n",
    "            index = urdu_words.index(word)\n",
    "            a = roman_words[index]\n",
    "            if isinstance(a,float):\n",
    "                roman_hadees.append(word)\n",
    "            else:\n",
    "                roman_hadees.append(a)\n",
    "        except:\n",
    "            print(\"Exception\")\n",
    "    str = ' '.join(roman_hadees)\n",
    "    converted_lines.append(str)"
   ]
  },
  {
   "cell_type": "code",
   "execution_count": 10,
   "id": "142d4ec2",
   "metadata": {},
   "outputs": [],
   "source": [
    "# print(converted_lines)"
   ]
  },
  {
   "cell_type": "code",
   "execution_count": 14,
   "outputs": [
    {
     "name": "stdout",
     "output_type": "stream",
     "text": [
      "Database created and Successfully Connected for uodate to SQLite\n",
      "The SQLite connection is closed while updating\n"
     ]
    },
    {
     "ename": "TypeError",
     "evalue": "'str' object is not callable",
     "output_type": "error",
     "traceback": [
      "\u001B[0;31m---------------------------------------------------------------------------\u001B[0m",
      "\u001B[0;31mTypeError\u001B[0m                                 Traceback (most recent call last)",
      "Cell \u001B[0;32mIn [14], line 10\u001B[0m\n\u001B[1;32m      8\u001B[0m \u001B[38;5;66;03m# print(new_tafseer[0],\" and \",issues_ayat_number[0])\u001B[39;00m\n\u001B[1;32m      9\u001B[0m \u001B[38;5;28;01mfor\u001B[39;00m i \u001B[38;5;129;01min\u001B[39;00m \u001B[38;5;28mrange\u001B[39m(\u001B[38;5;28mlen\u001B[39m(converted_lines)):\n\u001B[0;32m---> 10\u001B[0m     cursor\u001B[38;5;241m.\u001B[39mexecute(\u001B[38;5;124m\"\u001B[39m\u001B[38;5;124mupdate tbl_translation set = \u001B[39m\u001B[38;5;124m'\u001B[39m\u001B[38;5;124m\"\u001B[39m \u001B[38;5;241m+\u001B[39m converted_lines[i] \u001B[38;5;241m+\u001B[39m \u001B[38;5;124m\"\u001B[39m\u001B[38;5;124m'\u001B[39m\u001B[38;5;124m where id = \u001B[39m\u001B[38;5;124m\"\u001B[39m \u001B[38;5;241m+\u001B[39m \u001B[38;5;28;43mstr\u001B[39;49m\u001B[43m(\u001B[49m\u001B[43mi\u001B[49m\u001B[43m)\u001B[49m \u001B[38;5;241m+\u001B[39m\u001B[38;5;124m\"\u001B[39m\u001B[38;5;124m;\u001B[39m\u001B[38;5;124m\"\u001B[39m)\n\u001B[1;32m     11\u001B[0m sqliteConnection\u001B[38;5;241m.\u001B[39mcommit()\n\u001B[1;32m     12\u001B[0m \u001B[38;5;28mprint\u001B[39m(\u001B[38;5;124m\"\u001B[39m\u001B[38;5;124mdata updated successfully\u001B[39m\u001B[38;5;124m\"\u001B[39m)\n",
      "\u001B[0;31mTypeError\u001B[0m: 'str' object is not callable"
     ]
    }
   ],
   "source": [
    "# import sqlite3\n",
    "#\n",
    "# try:\n",
    "#     sqliteConnection = sqlite3.connect('dictionaryDB.db')\n",
    "#     cursor = sqliteConnection.cursor()\n",
    "#     print(\"Database created and Successfully Connected for uodate to SQLite\")\n",
    "#\n",
    "#     # print(new_tafseer[0],\" and \",issues_ayat_number[0])\n",
    "#     for i in range(len(converted_lines)):\n",
    "#         cursor.execute(\"update tbl_translation set = '\" + converted_lines[i] + \"' where id = \" + str(i) +\";\")\n",
    "#     sqliteConnection.commit()\n",
    "#     print(\"data updated successfully\")\n",
    "#     cursor.close()\n",
    "#\n",
    "# except sqlite3.Error as error:\n",
    "#     print(\"Error while connecting updating to sqlite\", error)\n",
    "# finally:\n",
    "#     if sqliteConnection:\n",
    "#         sqliteConnection.close()\n",
    "#         print(\"The SQLite connection is closed while updating\")"
   ],
   "metadata": {
    "collapsed": false
   }
  },
  {
   "cell_type": "code",
   "execution_count": 11,
   "id": "109d82da",
   "metadata": {},
   "outputs": [
    {
     "name": "stdout",
     "output_type": "stream",
     "text": [
      "Writing complete\n"
     ]
    }
   ],
   "source": [
    "myFile = open('roman_translation.csv', 'w')\n",
    "with myFile:\n",
    "    writer = csv.writer(myFile)\n",
    "    for value in converted_lines:\n",
    "        writer.writerow([value])\n",
    "myFile.close()\n",
    "print(\"Writing complete\")"
   ]
  },
  {
   "cell_type": "code",
   "execution_count": null,
   "id": "e054c36c",
   "metadata": {},
   "outputs": [],
   "source": []
  },
  {
   "cell_type": "code",
   "execution_count": 11,
   "outputs": [],
   "source": [],
   "metadata": {
    "collapsed": false
   }
  }
 ],
 "metadata": {
  "kernelspec": {
   "display_name": "Python 3 (ipykernel)",
   "language": "python",
   "name": "python3"
  },
  "language_info": {
   "codemirror_mode": {
    "name": "ipython",
    "version": 3
   },
   "file_extension": ".py",
   "mimetype": "text/x-python",
   "name": "python",
   "nbconvert_exporter": "python",
   "pygments_lexer": "ipython3",
   "version": "3.8.8"
  }
 },
 "nbformat": 4,
 "nbformat_minor": 5
}
