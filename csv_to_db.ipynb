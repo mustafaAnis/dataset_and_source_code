{
 "cells": [
  {
   "cell_type": "code",
   "execution_count": 11,
   "metadata": {
    "collapsed": true
   },
   "outputs": [],
   "source": [
    "import pandas\n",
    "\n",
    "df = pandas.read_csv(\"unique_word_translated/unique_word.csv\", names=['second', 'third'], encoding='utf-8-sig')\n",
    "urdu_words = df.second.to_list()\n",
    "roman_words = df.third.to_list()"
   ]
  },
  {
   "cell_type": "code",
   "execution_count": 11,
   "outputs": [],
   "source": [],
   "metadata": {
    "collapsed": false
   }
  },
  {
   "cell_type": "code",
   "execution_count": 12,
   "outputs": [
    {
     "name": "stdout",
     "output_type": "stream",
     "text": [
      "Database created and Successfully Connected for update to SQLite\n",
      "Error while connecting updating to sqlite near \"an\": syntax error\n",
      "The SQLite connection is closed while updating\n"
     ]
    }
   ],
   "source": [
    "import sqlite3\n",
    "\n",
    "try:\n",
    "    sqliteConnection = sqlite3.connect('dictionaryDB.db')\n",
    "    cursor = sqliteConnection.cursor()\n",
    "    print(\"Database created and Successfully Connected for update to SQLite\")\n",
    "\n",
    "    # print(new_tafseer[0],\" and \",issues_ayat_number[0])\n",
    "    for i in range(len(urdu_words)):\n",
    "        cursor.execute(\"insert into tbl_word (urdu,roman) values ( '\" + urdu_words[i] + \"' , '\" + roman_words[i] + \"');\")\n",
    "\n",
    "\n",
    "    sqliteConnection.commit()\n",
    "    print(\"data updated successfully\")\n",
    "    cursor.close()\n",
    "\n",
    "except sqlite3.Error as error:\n",
    "    print(\"Error while connecting updating to sqlite\", error)\n",
    "finally:\n",
    "    if sqliteConnection:\n",
    "        sqliteConnection.close()\n",
    "        print(\"The SQLite connection is closed while updating\")"
   ],
   "metadata": {
    "collapsed": false
   }
  },
  {
   "cell_type": "code",
   "execution_count": null,
   "outputs": [],
   "source": [],
   "metadata": {
    "collapsed": false
   }
  }
 ],
 "metadata": {
  "kernelspec": {
   "display_name": "Python 3",
   "language": "python",
   "name": "python3"
  },
  "language_info": {
   "codemirror_mode": {
    "name": "ipython",
    "version": 2
   },
   "file_extension": ".py",
   "mimetype": "text/x-python",
   "name": "python",
   "nbconvert_exporter": "python",
   "pygments_lexer": "ipython2",
   "version": "2.7.6"
  }
 },
 "nbformat": 4,
 "nbformat_minor": 0
}
