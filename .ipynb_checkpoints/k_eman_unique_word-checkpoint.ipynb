{
 "cells": [
  {
   "cell_type": "code",
   "execution_count": 23,
   "id": "a5252294",
   "metadata": {},
   "outputs": [],
   "source": [
    "import pandas\n",
    "import os\n",
    "import nltk\n",
    "import json"
   ]
  },
  {
   "cell_type": "code",
   "execution_count": 24,
   "id": "ba6be17c",
   "metadata": {},
   "outputs": [],
   "source": [
    "with open('k_eman.csv', encoding = 'utf-8-sig') as file_csv:\n",
    "    lines_row = word_tokenize(' '.join(file_csv.read().splitlines()))"
   ]
  },
  {
   "cell_type": "code",
   "execution_count": 25,
   "id": "a1afa437",
   "metadata": {},
   "outputs": [],
   "source": [
    "punctuation = ['“','“','‘‘',',','-','،','۔','”','!','؟',')','(','.','1','2','3','4','5','6','7','8','9','0','‘',',',\"''\",'``',' ',':',':’’','’’']\n",
    "extra_punct = ['’’','“','،',':','”','۔','\"',\"(\",\")\",\"؟\"]"
   ]
  },
  {
   "cell_type": "code",
   "execution_count": 26,
   "id": "03c688a6",
   "metadata": {},
   "outputs": [],
   "source": [
    "remove_punc=[]\n",
    "for a in lines_row:\n",
    "    if a not in punctuation:\n",
    "        remove_punc.append(a)"
   ]
  },
  {
   "cell_type": "code",
   "execution_count": 27,
   "id": "4ff18902",
   "metadata": {},
   "outputs": [],
   "source": [
    "for itemlist in range(len(remove_punc)):\n",
    "    for i in extra_punct:\n",
    "        remove_punc[itemlist] = remove_punc[itemlist].replace(i,'')"
   ]
  },
  {
   "cell_type": "code",
   "execution_count": 28,
   "id": "23ab0dd1",
   "metadata": {},
   "outputs": [],
   "source": [
    "for itemlist in range(len(remove_punc)):\n",
    "    remove_punc[itemlist] = remove_punc[itemlist].replace('  ',' ')"
   ]
  },
  {
   "cell_type": "code",
   "execution_count": 29,
   "id": "47544585",
   "metadata": {},
   "outputs": [],
   "source": [
    "unique_word = []\n",
    "for word in remove_punc:\n",
    "    if word not in unique_word:\n",
    "        unique_word.append(word)"
   ]
  },
  {
   "cell_type": "code",
   "execution_count": 30,
   "id": "6e8249a8",
   "metadata": {},
   "outputs": [],
   "source": [
    "dataset = pandas.DataFrame(remove_punc)\n",
    "unique_word_df = pandas.DataFrame(unique_word)"
   ]
  },
  {
   "cell_type": "code",
   "execution_count": 31,
   "id": "9a3b1383",
   "metadata": {},
   "outputs": [],
   "source": [
    "if os.path.exists('dataset.csv'):\n",
    "    os.remove('dataset.csv')\n",
    "    unique_word_df.to_csv('dataset.csv',encoding='utf-8-sig', header=False , index = False)\n",
    "else:\n",
    "    unique_word_df.to_csv('dataset.csv',encoding='utf-8-sig', header=False , index = False)"
   ]
  },
  {
   "cell_type": "code",
   "execution_count": 32,
   "id": "a5b3c3cc",
   "metadata": {},
   "outputs": [],
   "source": [
    "if os.path.exists('unique_word.csv'):\n",
    "    os.remove('unique_word.csv')\n",
    "    unique_word_df.to_csv('unique_word.csv',encoding='utf-8-sig', header=False , index = False)\n",
    "else:\n",
    "    unique_word_df.to_csv('unique_word.csv',encoding='utf-8-sig', header=False , index = False)"
   ]
  },
  {
   "cell_type": "code",
   "execution_count": 33,
   "id": "a68f12b7",
   "metadata": {},
   "outputs": [
    {
     "name": "stdout",
     "output_type": "stream",
     "text": [
      "            0\n",
      "0        اللہ\n",
      "1          کے\n",
      "2         نام\n",
      "3          سے\n",
      "4        شروع\n",
      "...       ...\n",
      "5820  پھونکتی\n",
      "5821      جلے\n",
      "5822     خطرے\n",
      "5823      دبک\n",
      "5824    وسوسے\n",
      "\n",
      "[5825 rows x 1 columns]\n"
     ]
    }
   ],
   "source": [
    "print(unique_word_df)"
   ]
  },
  {
   "cell_type": "code",
   "execution_count": 34,
   "id": "e29b713a",
   "metadata": {},
   "outputs": [
    {
     "name": "stdout",
     "output_type": "stream",
     "text": [
      "            0\n",
      "0        اللہ\n",
      "1          کے\n",
      "2         نام\n",
      "3          سے\n",
      "4        شروع\n",
      "...       ...\n",
      "161742  ڈالتے\n",
      "161743    ہیں\n",
      "161744     جن\n",
      "161745    اور\n",
      "161746   آدمی\n",
      "\n",
      "[161747 rows x 1 columns]\n"
     ]
    }
   ],
   "source": [
    "print(dataset)"
   ]
  },
  {
   "cell_type": "code",
   "execution_count": null,
   "id": "8b8545f8",
   "metadata": {},
   "outputs": [],
   "source": []
  },
  {
   "cell_type": "code",
   "execution_count": null,
   "id": "a5255d07",
   "metadata": {},
   "outputs": [],
   "source": []
  }
 ],
 "metadata": {
  "kernelspec": {
   "display_name": "Python 3 (ipykernel)",
   "language": "python",
   "name": "python3"
  },
  "language_info": {
   "codemirror_mode": {
    "name": "ipython",
    "version": 3
   },
   "file_extension": ".py",
   "mimetype": "text/x-python",
   "name": "python",
   "nbconvert_exporter": "python",
   "pygments_lexer": "ipython3",
   "version": "3.8.8"
  }
 },
 "nbformat": 4,
 "nbformat_minor": 5
}
